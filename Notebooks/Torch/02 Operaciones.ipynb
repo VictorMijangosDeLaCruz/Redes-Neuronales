{
 "cells": [
  {
   "cell_type": "markdown",
   "id": "c4a0874f",
   "metadata": {},
   "source": [
    "# Operaciones con tensores\n",
    "\n",
    "Los tensores pueden operarse de distintas formas para producir nuevos tensores. Como otras estructuras matemáticas, los tensores permiten operaciones básicas como la suma o el producto. Otras operaciones importantes se pueden hacer con los tensores. Revisamos estas operaciones:\n",
    "\n",
    "### Transposición\n",
    "\n",
    "La transposición es una operación que se presenta en tensores de rango mayor o igual a 2. Si bien podemos pensar que un vector (tensor de rango 1) puede transponerse al considerarlo como una columna (vector en vertical) en lugar de un renglón (vector en horizontal). En el caso de las paqueterías con las que operamos la transposición de un vector no surge ningún efecto, sigue siendo un arreglo de números."
   ]
  },
  {
   "cell_type": "code",
   "execution_count": 2,
   "id": "3d5bb2dc",
   "metadata": {},
   "outputs": [
    {
     "name": "stdout",
     "output_type": "stream",
     "text": [
      "Vector tensor([1, 2, 3])\n",
      "Vector transpuesto: tensor([1, 2, 3])\n"
     ]
    }
   ],
   "source": [
    "import torch\n",
    "\n",
    "#Vector (tensro rango 1)\n",
    "x = torch.tensor([1,2,3])\n",
    "\n",
    "print('Vector {}\\nVector transpuesto: {}'.format(x, x.T))"
   ]
  },
  {
   "cell_type": "markdown",
   "id": "e20582f9",
   "metadata": {},
   "source": [
    "En los tensores de mayor rango, la transposición es una permutación que invierte el valor de los índices de un tensor. Es decir, si el tensor $T$ tiene los índices $i_1, i_2,...,i_n$, el vector transpuesto $T^T$ tendrá los índices $i_n, i_{n-1}, ..., i_2, i_1$. \n",
    "\n",
    "En el caso de las <b>matrices</b>, la tranposición invierte los índices $i,j$ a $j,i$. Así, la transposición de la matriz $A$ tiene como entradas $(A^T)_{i,j} = A_{j,i}$. Es decir,m la transposición de las matrices cambia las columnas por renglones."
   ]
  },
  {
   "cell_type": "code",
   "execution_count": 16,
   "id": "04332ccc",
   "metadata": {},
   "outputs": [
    {
     "name": "stdout",
     "output_type": "stream",
     "text": [
      "tensor([[0, 3, 0, 5],\n",
      "        [5, 0, 2, 3],\n",
      "        [1, 2, 0, 1]])\n"
     ]
    }
   ],
   "source": [
    "#Tensor de rango 2 (matriz)\n",
    "A = torch.tensor([[0, 5, 1],\n",
    "                  [3, 0, 2],\n",
    "                  [0, 2, 0],\n",
    "                  [5, 3, 1]])\n",
    "\n",
    "print(A.T)"
   ]
  },
  {
   "cell_type": "markdown",
   "id": "4e98c8d1",
   "metadata": {},
   "source": [
    "En tensores de rango 3, los tres índices $i,j,k$ se invierten como $k,j,i$; pot ejemplo, un tensor de tamaño $(2,4,3)$ tendrá una transpuesta de tamaño $(3,4,2)$. De tal forma, que  las entradas del tensor transpuesto de grado 3 estarán dadas como: $$(T^T)_{i,j,k} = T_{k,j,i}$$"
   ]
  },
  {
   "cell_type": "code",
   "execution_count": 17,
   "id": "39f84b7c",
   "metadata": {
    "scrolled": true
   },
   "outputs": [
    {
     "name": "stdout",
     "output_type": "stream",
     "text": [
      "Tensor transpuesto\n",
      "tensor([[[ 1.0000,  7.0000],\n",
      "         [ 4.0000, 10.0000],\n",
      "         [ 1.0000, 20.0000],\n",
      "         [ 1.0000,  0.0000]],\n",
      "\n",
      "        [[ 2.0000,  8.0000],\n",
      "         [ 5.0000, 11.0000],\n",
      "         [ 2.0000,  1.0000],\n",
      "         [ 0.5000,  0.0000]],\n",
      "\n",
      "        [[ 3.0000,  9.0000],\n",
      "         [ 6.0000, 12.0000],\n",
      "         [ 3.0000,  0.0000],\n",
      "         [ 2.0000,  1.0000]]])\n",
      "Tamaño original: torch.Size([2, 4, 3])\n",
      "Tamaño de tranpuesta: torch.Size([3, 4, 2])\n"
     ]
    }
   ],
   "source": [
    "#Tensor de rango 3\n",
    "T = torch.tensor([[[1,2,3],[4,5,6],[1,2,3],[1,0.5,2]], \n",
    "                  [[7,8,9],[10,11,12],[20,1,0],[0,0,1]]])\n",
    "\n",
    "print('Tensor transpuesto\\n{}'.format(T.T))\n",
    "print('Tamaño original: {}\\nTamaño de tranpuesta: {}'.format(T.size(), T.T.size()))"
   ]
  },
  {
   "cell_type": "markdown",
   "id": "2e62c3f2",
   "metadata": {},
   "source": [
    "En tensores de mayor rango, la transposición invierte los índices de tal forma que:\n",
    "\n",
    "$$(T^T)_{i_1,i_2,...,i_{n-1},i_n} = T_{i_n, i_{n-1},...,i_2, i_1}$$\n",
    "\n",
    "Podemos generar un tensro de manera aleatoria (usamos la función <tt>torch.rand()</tt>) y ver cómo se comportan sus índices:"
   ]
  },
  {
   "cell_type": "code",
   "execution_count": 18,
   "id": "5ac60b3e",
   "metadata": {},
   "outputs": [
    {
     "name": "stdout",
     "output_type": "stream",
     "text": [
      "Tamaño original: torch.Size([2, 3, 4, 5, 6, 7, 8])\n",
      "Tamaño transpuesto: torch.Size([8, 7, 6, 5, 4, 3, 2])\n"
     ]
    }
   ],
   "source": [
    "#Tensor de mayor tango\n",
    "Trank = torch.rand(2,3,4,5,6,7,8)\n",
    "\n",
    "print('Tamaño original: {}\\nTamaño transpuesto: {}'.format(Trank.size(), Trank.T.size()))"
   ]
  },
  {
   "cell_type": "markdown",
   "id": "033a2f00",
   "metadata": {},
   "source": [
    "### Suma de tensores\n",
    "\n",
    "La suma de tensores es una operación sencilla que únicamente consiste en sumar cada una de las entradas de ambos tensores. Por tanto, la suma sólo puede hacerse entre tensores del mismo rango, y de las mismas dimensiones. La suma se da como:\n",
    "\n",
    "$$(A + B)_{i_1,...,i_n} = A_{i_1,...,i_n} + B_{i_1,...,i_n}$$"
   ]
  },
  {
   "cell_type": "code",
   "execution_count": 19,
   "id": "4052c712",
   "metadata": {},
   "outputs": [
    {
     "name": "stdout",
     "output_type": "stream",
     "text": [
      "Suma de vectores\n",
      "tensor([1, 2, 1])\n",
      " + \n",
      "tensor([1, 2, 2])\n",
      " = \n",
      "tensor([2, 4, 3])\n",
      "\n",
      "Suma de matrices\n",
      "tensor([[0, 5, 1],\n",
      "        [3, 0, 2],\n",
      "        [0, 2, 0],\n",
      "        [5, 3, 1]])\n",
      " + \n",
      "tensor([[10,  0,  2],\n",
      "        [ 9,  4,  1],\n",
      "        [ 8,  1,  0],\n",
      "        [ 1,  0,  0]])\n",
      " = \n",
      "tensor([[10,  5,  3],\n",
      "        [12,  4,  3],\n",
      "        [ 8,  3,  0],\n",
      "        [ 6,  3,  1]])\n",
      "\n",
      "Suma de tensores de rango 3\n",
      "tensor([[[0.1662, 0.0849, 0.7501, 0.9639],\n",
      "         [0.0520, 0.1086, 0.6737, 0.2521],\n",
      "         [0.6116, 0.2866, 0.4114, 0.5266]],\n",
      "\n",
      "        [[0.7665, 0.7558, 0.3828, 0.8545],\n",
      "         [0.9798, 0.2440, 0.8081, 0.5475],\n",
      "         [0.1404, 0.2394, 0.5220, 0.6633]]])\n",
      " + \n",
      "tensor([[[0.7900, 0.8400, 0.7286, 0.5535],\n",
      "         [0.1445, 0.0862, 0.8012, 0.0603],\n",
      "         [0.8716, 0.0645, 0.7078, 0.3248]],\n",
      "\n",
      "        [[0.0031, 0.3819, 0.3177, 0.7403],\n",
      "         [0.1749, 0.1087, 0.7834, 0.9387],\n",
      "         [0.6003, 0.5543, 0.3496, 0.7899]]])\n",
      " = \n",
      "tensor([[[0.9563, 0.9249, 1.4787, 1.5173],\n",
      "         [0.1965, 0.1948, 1.4749, 0.3123],\n",
      "         [1.4832, 0.3511, 1.1192, 0.8513]],\n",
      "\n",
      "        [[0.7696, 1.1377, 0.7005, 1.5948],\n",
      "         [1.1547, 0.3526, 1.5915, 1.4862],\n",
      "         [0.7407, 0.7937, 0.8716, 1.4533]]])\n"
     ]
    }
   ],
   "source": [
    "x = torch.tensor([1,2,1])\n",
    "y = torch.tensor([1,2,2])\n",
    "print('Suma de vectores')\n",
    "print('{}\\n + \\n{}\\n = \\n{}'.format(x,y,x+y))\n",
    "\n",
    "\n",
    "A = torch.tensor([[0, 5, 1],\n",
    "                  [3, 0, 2],\n",
    "                  [0, 2, 0],\n",
    "                  [5, 3, 1]])\n",
    "B = torch.tensor([[10, 0, 2],\n",
    "                  [9, 4, 1],\n",
    "                  [8, 1, 0],\n",
    "                  [1, 0, 0]])\n",
    "print('\\nSuma de matrices')\n",
    "print('{}\\n + \\n{}\\n = \\n{}'.format(A,B,A+B))\n",
    "\n",
    "T1 = torch.rand(2,3,4)\n",
    "T2 = torch.rand(2,3,4)\n",
    "print('\\nSuma de tensores de rango 3')\n",
    "print('{}\\n + \\n{}\\n = \\n{}'.format(T1,T2,T1+T2))"
   ]
  },
  {
   "cell_type": "code",
   "execution_count": 20,
   "id": "392c64aa",
   "metadata": {},
   "outputs": [
    {
     "name": "stdout",
     "output_type": "stream",
     "text": [
      "tensor([[0, 5, 1],\n",
      "        [3, 0, 2],\n",
      "        [0, 2, 0],\n",
      "        [5, 3, 1]])\n",
      "tensor([1, 2, 1])\n",
      "tensor([[-1,  3,  0],\n",
      "        [ 2, -2,  1],\n",
      "        [-1,  0, -1],\n",
      "        [ 4,  1,  0]])\n"
     ]
    }
   ],
   "source": [
    "print(A)\n",
    "print(x)\n",
    "print(A-x)"
   ]
  },
  {
   "cell_type": "markdown",
   "id": "aa38f746",
   "metadata": {},
   "source": [
    "### Producto por escalares\n",
    "\n",
    "El producto por un escalar toma un número real $\\lambda$ y multiplica cada entrada por este elemento. Por lo que las entradas de un tensor multiplicado por un escalar es de la forma $(\\lambda T)_{i_1,...,i_n} = \\lambda T_{i_1,...,i_n}$. En este sentido, lo que hace el producto por el escalar es precisamente \"escalar\" el tensor. En PyTorch, tanto como en Tensorflow y Numpy este producto se hace como:\n",
    "\n",
    "```python\n",
    "  scalar = a*T\n",
    "```\n",
    "\n",
    "Donde $a$ es un valor numérico, entero o flotante."
   ]
  },
  {
   "cell_type": "code",
   "execution_count": 21,
   "id": "2e3e925e",
   "metadata": {},
   "outputs": [
    {
     "name": "stdout",
     "output_type": "stream",
     "text": [
      "2.5 • tensor([1, 2, 1])\n",
      " = \n",
      "tensor([2.5000, 5.0000, 2.5000])\n",
      "\n",
      "2.5 • tensor([[0, 5, 1],\n",
      "        [3, 0, 2],\n",
      "        [0, 2, 0],\n",
      "        [5, 3, 1]])\n",
      " = \n",
      "tensor([[ 0.0000, 12.5000,  2.5000],\n",
      "        [ 7.5000,  0.0000,  5.0000],\n",
      "        [ 0.0000,  5.0000,  0.0000],\n",
      "        [12.5000,  7.5000,  2.5000]])\n"
     ]
    }
   ],
   "source": [
    "#Escalar\n",
    "a = 2.5\n",
    "\n",
    "#Productos de tensores\n",
    "print('{} • {}\\n = \\n{}\\n'.format(a,x, a*x))\n",
    "print('{} • {}\\n = \\n{}'.format(a,A, a*A))"
   ]
  },
  {
   "cell_type": "markdown",
   "id": "b79de374",
   "metadata": {},
   "source": [
    "### Producto punto entre vectores\n",
    "\n",
    "El producto punto entre dos vectores $x, y$ de la misma dimensión se calcula como:\n",
    "\n",
    "$$x^T y = \\sum_{i=1}^d x_i y_i$$\n",
    "\n",
    "Este producto punto se realiza de diferentes formas según el lenguaje de programación que estemos usando:\n",
    "\n",
    "* Numpy\n",
    "```python\n",
    "  dot = np.dot(x,y)\n",
    "```\n",
    "* Tensorflow\n",
    "```python\n",
    "  dot = tf.tensordot(x,y)\n",
    "```\n",
    "* PyTorch\n",
    "```python\n",
    "  scalar = torch.matmul(x,y)\n",
    "```"
   ]
  },
  {
   "cell_type": "code",
   "execution_count": 22,
   "id": "4ec26fdd",
   "metadata": {},
   "outputs": [
    {
     "name": "stdout",
     "output_type": "stream",
     "text": [
      "tensor([1, 2, 1]) • tensor([1, 2, 2])\n",
      " = \n",
      "7\n"
     ]
    }
   ],
   "source": [
    "#Producto punto\n",
    "dot = torch.matmul(x,y)\n",
    "\n",
    "print('{} • {}\\n = \\n{}'.format(x,y, dot))"
   ]
  },
  {
   "cell_type": "markdown",
   "id": "b572205e",
   "metadata": {},
   "source": [
    "### Productos con matrices\n",
    "\n",
    "Los tensores de rango 2 pueden multiplicar a otros tensores de diferente rango. Por ejemplo, se puede realizar el producto entre una matriz $A$ y un vector $x$ donde la dimensiones de las columnas de $A$ deben coincidir con la dimensión de $x$. El resultado de producto es un vector que está determinado como:\n",
    "\n",
    "$$(Ax)_i = \\sum_j A_{i,j} x_j$$\n",
    "\n",
    "En este caso, se utilizan las mismas funciones que en el producto punto. En este caso, tenemos la función <tt>torch.matmul()</tt>."
   ]
  },
  {
   "cell_type": "code",
   "execution_count": 23,
   "id": "4036d85c",
   "metadata": {},
   "outputs": [
    {
     "name": "stdout",
     "output_type": "stream",
     "text": [
      "tensor([[0, 5, 1],\n",
      "        [3, 0, 2],\n",
      "        [0, 2, 0],\n",
      "        [5, 3, 1]]) • tensor([1, 2, 1])\n",
      " = \n",
      "tensor([11,  5,  4, 12])\n"
     ]
    }
   ],
   "source": [
    "#Producto matriz con vector\n",
    "product = torch.matmul(A,x)\n",
    "\n",
    "print('{} • {}\\n = \\n{}'.format(A,x, product))"
   ]
  },
  {
   "cell_type": "markdown",
   "id": "516d9465",
   "metadata": {},
   "source": [
    "Asimismo, se puede realizar el producto entre dos matrices que compartan una dimensión. Es decir, la primera matriz tendrá tantas columnas como renglones la segunda. El producto entre matrices está dado como:\n",
    "\n",
    "$$(AB)_{i,j} = \\sum_k A_{i,k} B_{k,j}$$"
   ]
  },
  {
   "cell_type": "code",
   "execution_count": 24,
   "id": "c859655b",
   "metadata": {},
   "outputs": [
    {
     "name": "stdout",
     "output_type": "stream",
     "text": [
      "tensor([[0, 5, 1],\n",
      "        [3, 0, 2],\n",
      "        [0, 2, 0],\n",
      "        [5, 3, 1]])\n",
      "  •  \n",
      "tensor([[10,  9,  8,  1],\n",
      "        [ 0,  4,  1,  0],\n",
      "        [ 2,  1,  0,  0]])\n",
      " = \n",
      "tensor([[ 2, 21,  5,  0],\n",
      "        [34, 29, 24,  3],\n",
      "        [ 0,  8,  2,  0],\n",
      "        [52, 58, 43,  5]])\n"
     ]
    }
   ],
   "source": [
    "#Producto matriz con vector\n",
    "rank2_product = torch.matmul(A,B.T)\n",
    "\n",
    "print('{}\\n  •  \\n{}\\n = \\n{}'.format(A,B.T, rank2_product))"
   ]
  },
  {
   "cell_type": "markdown",
   "id": "d4c126db",
   "metadata": {},
   "source": [
    "### Producto entre tensores de mayor rango\n",
    "\n",
    "Los tensores de rango 3 o mayores pueden multiplicarse con otros tensores de menor o igual rango. Por ejemplo, podemos multiplicar un vector de rango 3 por un vector como:\n",
    "\n",
    "$$(Tx)_{i,j} = \\sum_{k} T_{i,j,k} x_k$$\n",
    "\n",
    "Por su parte, también podemos multiplicar el tensor por una matriz, de la siguiente forma:\n",
    "\n",
    "$$(TA)_{i,j,k} = \\sum_{l} T_{i,j,l} A_{l,k}$$"
   ]
  },
  {
   "cell_type": "code",
   "execution_count": 25,
   "id": "2cf56d00",
   "metadata": {},
   "outputs": [
    {
     "name": "stdout",
     "output_type": "stream",
     "text": [
      "Tensor de rango 3 por vector\n",
      "tensor([[[0.4250, 0.3967, 0.4637],\n",
      "         [0.1904, 0.5565, 0.0573],\n",
      "         [0.8393, 0.6197, 0.4173]],\n",
      "\n",
      "        [[0.2392, 0.2195, 0.4197],\n",
      "         [0.9788, 0.4541, 0.7614],\n",
      "         [0.3798, 0.7082, 0.2295]],\n",
      "\n",
      "        [[0.2776, 0.5109, 0.9705],\n",
      "         [0.3601, 0.6847, 0.6061],\n",
      "         [0.5399, 0.5367, 0.4936]]])\n",
      "  •  \n",
      "tensor([0.4963, 0.4872, 0.6042])\n",
      " = \n",
      "tensor([[0.6844, 0.4003, 0.9706],\n",
      "        [0.4792, 1.1671, 0.6722],\n",
      "        [0.9731, 0.8785, 0.8276]])\n",
      "\n",
      "\n",
      "Tensor de rango 3 por matriz\n",
      "tensor([[[0.4250, 0.3967, 0.4637],\n",
      "         [0.1904, 0.5565, 0.0573],\n",
      "         [0.8393, 0.6197, 0.4173]],\n",
      "\n",
      "        [[0.2392, 0.2195, 0.4197],\n",
      "         [0.9788, 0.4541, 0.7614],\n",
      "         [0.3798, 0.7082, 0.2295]],\n",
      "\n",
      "        [[0.2776, 0.5109, 0.9705],\n",
      "         [0.3601, 0.6847, 0.6061],\n",
      "         [0.5399, 0.5367, 0.4936]]])\n",
      "  •  \n",
      "tensor([[0.6843, 0.8086],\n",
      "        [0.5772, 0.4003],\n",
      "        [0.6710, 0.1080]])\n",
      " = \n",
      "tensor([[[0.8310, 0.5526],\n",
      "         [0.4900, 0.3830],\n",
      "         [1.2120, 0.9718]],\n",
      "\n",
      "        [[0.5720, 0.3266],\n",
      "         [1.4429, 1.0555],\n",
      "         [0.8226, 0.6154]],\n",
      "\n",
      "        [[1.1361, 0.5338],\n",
      "         [1.0483, 0.6307],\n",
      "         [1.0104, 0.7047]]])\n"
     ]
    }
   ],
   "source": [
    "#Crea tensores\n",
    "T = torch.rand(3,3,3)\n",
    "A = torch.rand(3,2)\n",
    "x = torch.rand(3,)\n",
    "\n",
    "#Producto por vector\n",
    "vector_product = torch.matmul(T,x)\n",
    "#Producto por matriz\n",
    "matrix_product = torch.matmul(T,A)\n",
    "\n",
    "print('Tensor de rango 3 por vector')\n",
    "print('{}\\n  •  \\n{}\\n = \\n{}'.format(T,x, vector_product))\n",
    "print('\\n\\nTensor de rango 3 por matriz')\n",
    "print('{}\\n  •  \\n{}\\n = \\n{}'.format(T,A, matrix_product))"
   ]
  },
  {
   "cell_type": "code",
   "execution_count": 42,
   "id": "a563978c",
   "metadata": {},
   "outputs": [
    {
     "name": "stdout",
     "output_type": "stream",
     "text": [
      "tensor([[0.5081, 0.9326, 0.5591],\n",
      "        [0.5196, 0.8039, 0.2327]]) tensor([[0.6198, 0.0055, 0.8486, 0.6951, 0.9270, 0.0882, 0.3515],\n",
      "        [0.4367, 0.1554, 0.3046, 0.6227, 0.4515, 0.5162, 0.5341]])\n",
      "tensor([[0.5419, 0.9291, 0.4482],\n",
      "        [0.0835, 0.1300, 0.0392],\n",
      "        [0.5895, 1.0363, 0.5454],\n",
      "        [0.6768, 1.1488, 0.5335],\n",
      "        [0.7057, 1.2275, 0.6234],\n",
      "        [0.3130, 0.4972, 0.1694],\n",
      "        [0.4561, 0.7572, 0.3208]])\n"
     ]
    }
   ],
   "source": [
    "A = torch.rand(2,3)\n",
    "B = torch.rand(2,7)\n",
    "print(A,B)\n",
    "print(torch.matmul(B.T,A))"
   ]
  },
  {
   "cell_type": "markdown",
   "id": "6299a47e",
   "metadata": {},
   "source": [
    "Finalmente, podemos realizar el producto entre tensores de mayor rango. Por ejemplo, entre tensores de rango 3. En todos estos casos, como vemos, se utiliza la función <tt>torch.matmul()</tt>."
   ]
  },
  {
   "cell_type": "code",
   "execution_count": 29,
   "id": "2c07e1d5",
   "metadata": {},
   "outputs": [
    {
     "name": "stdout",
     "output_type": "stream",
     "text": [
      "tensor([[[0.4250, 0.3967, 0.4637],\n",
      "         [0.1904, 0.5565, 0.0573],\n",
      "         [0.8393, 0.6197, 0.4173]],\n",
      "\n",
      "        [[0.2392, 0.2195, 0.4197],\n",
      "         [0.9788, 0.4541, 0.7614],\n",
      "         [0.3798, 0.7082, 0.2295]],\n",
      "\n",
      "        [[0.2776, 0.5109, 0.9705],\n",
      "         [0.3601, 0.6847, 0.6061],\n",
      "         [0.5399, 0.5367, 0.4936]]])\n",
      "  •  \n",
      "tensor([[[0.1658, 0.4173, 0.5170],\n",
      "         [0.2518, 0.9903, 0.5197],\n",
      "         [0.8960, 0.0953, 0.3031]],\n",
      "\n",
      "        [[0.3856, 0.6187, 0.1493],\n",
      "         [0.5687, 0.2540, 0.5460],\n",
      "         [0.4763, 0.6914, 0.2936]],\n",
      "\n",
      "        [[0.5083, 0.4643, 0.2703],\n",
      "         [0.0266, 0.6594, 0.6008],\n",
      "         [0.2690, 0.3596, 0.4059]]])\n",
      " = \n",
      "tensor([[[0.5858, 0.6144, 0.5665],\n",
      "         [0.2230, 0.6361, 0.4051],\n",
      "         [0.6690, 1.0037, 0.8825]],\n",
      "\n",
      "        [[0.4169, 0.4939, 0.2788],\n",
      "         [0.9983, 1.2474, 0.6176],\n",
      "         [0.6585, 0.5735, 0.5107]],\n",
      "\n",
      "        [[0.4158, 0.8148, 0.7759],\n",
      "         [0.3643, 0.8366, 0.7547],\n",
      "         [0.4215, 0.7820, 0.6687]]])\n"
     ]
    }
   ],
   "source": [
    "#Crea un tensor de rango 3\n",
    "T2 = torch.rand(3,3,3)\n",
    "#Producto entre tensores\n",
    "rank3_product = torch.matmul(T,T2)\n",
    "\n",
    "print('{}\\n  •  \\n{}\\n = \\n{}'.format(T,T2, rank3_product))"
   ]
  },
  {
   "cell_type": "markdown",
   "id": "525c8192",
   "metadata": {},
   "source": [
    "### Producto de Hadamard\n",
    "\n",
    "El producto de Hadamard es un producto punto a punto, en donde cada entrada de los tensores se multiplican entre si. Es decir, se tiene que:\n",
    "\n",
    "$$(T \\odot U)_{i_1,...,i_n} = T_{i_1,...,i_n}U_{i_1,...,i_n}$$\n",
    "\n",
    "Este producto suele hacerse por medio del operador <tt>*</tt>."
   ]
  },
  {
   "cell_type": "code",
   "execution_count": 30,
   "id": "9e257bfd",
   "metadata": {},
   "outputs": [
    {
     "name": "stdout",
     "output_type": "stream",
     "text": [
      "tensor([0.4963, 0.4872, 0.6042])\n",
      "  o  \n",
      "tensor([1, 2, 2])\n",
      " = \n",
      "tensor([0.4963, 0.9744, 1.2084])\n"
     ]
    }
   ],
   "source": [
    "#Producto punto a punto\n",
    "had = x*y\n",
    "\n",
    "print('{}\\n  o  \\n{}\\n = \\n{}'.format(x,y, had))"
   ]
  },
  {
   "cell_type": "markdown",
   "id": "375910c3",
   "metadata": {},
   "source": [
    "### Producto externo\n",
    "\n",
    "El producto externo es importante para algunas operaciones entre vectores, pues produce una matriz cuyas entradas son productos entre los elementos de ambos vectores. En este caso, el resultado se obtiene como:\n",
    "\n",
    "$$(x \\otimes y)_{i,j} = x_i y_j $$"
   ]
  },
  {
   "cell_type": "code",
   "execution_count": 28,
   "id": "1d3fdaee",
   "metadata": {},
   "outputs": [
    {
     "name": "stdout",
     "output_type": "stream",
     "text": [
      "tensor([0.4963, 0.4872, 0.6042])\n",
      "  x  \n",
      "tensor([1, 2, 2])\n",
      " = \n",
      "tensor([[0.4963, 0.9925, 0.9925],\n",
      "        [0.4872, 0.9744, 0.9744],\n",
      "        [0.6042, 1.2084, 1.2084]])\n"
     ]
    }
   ],
   "source": [
    "#Producto externo\n",
    "outer = torch.outer(x,y)\n",
    "\n",
    "print('{}\\n  x  \\n{}\\n = \\n{}'.format(x,y, outer))"
   ]
  },
  {
   "cell_type": "code",
   "execution_count": 9,
   "id": "c0541532",
   "metadata": {},
   "outputs": [
    {
     "data": {
      "text/plain": [
       "tensor(1.2000)"
      ]
     },
     "execution_count": 9,
     "metadata": {},
     "output_type": "execute_result"
    }
   ],
   "source": [
    "x = torch.Tensor([1,2])\n",
    "y = torch.tensor([0.4, 0.4])\n",
    "\n",
    "torch.matmul(x,y)"
   ]
  },
  {
   "cell_type": "markdown",
   "id": "449d50ce",
   "metadata": {},
   "source": [
    "     "
   ]
  }
 ],
 "metadata": {
  "kernelspec": {
   "display_name": "Python 3 (ipykernel)",
   "language": "python",
   "name": "python3"
  },
  "language_info": {
   "codemirror_mode": {
    "name": "ipython",
    "version": 3
   },
   "file_extension": ".py",
   "mimetype": "text/x-python",
   "name": "python",
   "nbconvert_exporter": "python",
   "pygments_lexer": "ipython3",
   "version": "3.10.9"
  }
 },
 "nbformat": 4,
 "nbformat_minor": 5
}
