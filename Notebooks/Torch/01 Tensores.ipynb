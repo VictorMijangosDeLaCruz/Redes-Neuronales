{
 "cells": [
  {
   "cell_type": "markdown",
   "id": "8242b0fb",
   "metadata": {},
   "source": [
    "# Tensores\n",
    "\n",
    "Los tensores son objetos matemáticos que, dentro del aprendizaje automático, se utilizan para representar datos numéricos en arreglos. Los tensores se caracterizan por dos elementos:\n",
    "\n",
    "1. El rango: el cual indica un tipo de objeto tensorial. Quizá la forma más sencilla es entender el rango como el número de índices que tiene un tensor. Si se tiene un sólo índice es de rango 1. Los tensores de rango 2 tendrán 2 índices, etc.\n",
    "2. Sus dimensiones: Determinan el número de elementos/datos que el tensor puede tener. Por ejemplo, un tensor de rango 1, esto es, un vector, puede tener 3 dimensiones: 3 valores numéricos, o puede tener un millón de dimensiones.\n",
    "\n",
    "Dentro de los tensores, los elementos más comúnes son los siguientes:\n",
    "\n",
    "| Rango       | Nombre | Notación |\n",
    "| ----------- | ----------- | ----------- |\n",
    "| 0     | Escalar       | $\\lambda$ |\n",
    "| 1   | Vector        | $x_i$ |\n",
    "| 2   | Matriz        | $A_{i,j}$ |\n",
    "| 3   | Tensor        | $T_{i,j,k}$ |\n",
    "\n",
    "\n",
    "## Tensores en Numpy\n",
    "\n",
    "Numpy nos permite manejar tensores de diferente rango. En este caso, los trata como arreglos (arrays) numéricos. Por lo que para crear un tensor usamos la función <tt>np.array()</tt>. A partir de esta función podemos generar diferentes tipos de tensores.\n",
    "\n",
    "#### Tensor de rango 1: vector\n",
    "\n",
    "Un vector es un tensor de rango 1, es decir, tiene un sólo índice:\n",
    "\n",
    "$$x = x_i$$\n",
    "\n",
    "Cada entrada $x_i$ del vector contiene información sobre algún dato, por ejemplo un atributo."
   ]
  },
  {
   "cell_type": "code",
   "execution_count": 1,
   "id": "e5c8b9ec",
   "metadata": {
    "scrolled": true
   },
   "outputs": [
    {
     "name": "stdout",
     "output_type": "stream",
     "text": [
      "[2 3 3 4 5]\n"
     ]
    }
   ],
   "source": [
    "import numpy as np\n",
    "\n",
    "#Tensor de rango 1\n",
    "x = np.array([2,3,3,4,5])\n",
    "\n",
    "print(x)"
   ]
  },
  {
   "cell_type": "markdown",
   "id": "3f9c3f20",
   "metadata": {},
   "source": [
    "Los vectores, tanto en 2 como en 3 dimensiones, son visualizables como flechas en espacios de 2 o 3 dimensiones."
   ]
  },
  {
   "cell_type": "code",
   "execution_count": 2,
   "id": "ca74560c",
   "metadata": {},
   "outputs": [
    {
     "data": {
      "image/png": "[encoded data removed]",
      "text/plain": [
       "<Figure size 300x300 with 1 Axes>"
      ]
     },
     "metadata": {},
     "output_type": "display_data"
    }
   ],
   "source": [
    "import matplotlib.pyplot as plt\n",
    "\n",
    "fig = plt.figure(figsize=(3,3))\n",
    "ax = fig.add_subplot(111, projection='3d')\n",
    "ax.quiver(0, 0, 0, x[0], x[1], x[2])\n",
    "ax.set_xlim([0, 3])\n",
    "ax.set_ylim([0, 3])\n",
    "ax.set_zlim([0, 3])\n",
    "plt.xlabel('$x_0$')\n",
    "plt.ylabel('$x_1$')\n",
    "ax.set_zlabel('$x_2$')\n",
    "#ax.view_init(30,45)\n",
    "plt.show()"
   ]
  },
  {
   "cell_type": "markdown",
   "id": "88de92e4",
   "metadata": {},
   "source": [
    "#### Tensor de rango 2: Matriz\n",
    "\n",
    "Una matriz cuenta con dos índices siendo un tensor de rango 2:\n",
    "\n",
    "$$A = A_{i,j}$$\n",
    "\n",
    "Se puede representar como tabla, el primer índice hace referencia a los renglones y el segundo a las columnas:"
   ]
  },
  {
   "cell_type": "code",
   "execution_count": 3,
   "id": "fe6ab069",
   "metadata": {},
   "outputs": [
    {
     "name": "stdout",
     "output_type": "stream",
     "text": [
      "[[0 5 1]\n",
      " [3 0 2]\n",
      " [0 2 0]]\n",
      "[[1 2 4]\n",
      " [2 5 6]]\n"
     ]
    }
   ],
   "source": [
    "#Tensor de rango 2 (matriz)\n",
    "A = np.array([[0, 5, 1],\n",
    "              [3, 0, 2],\n",
    "              [0, 2, 0]])\n",
    "\n",
    "print(A)\n",
    "\n",
    "x = np.array([1,2,4])\n",
    "y = np.array([2,5,6])\n",
    "M = np.array([x,y])\n",
    "print(M)\n",
    "\n",
    "#rank3T = np.array([A, M])\n",
    "\n",
    "#print(rank3T)"
   ]
  },
  {
   "cell_type": "markdown",
   "id": "1f398ca7",
   "metadata": {},
   "source": [
    "#### Tensores de mayor rango\n",
    "\n",
    "Se pueden crear tensores con un rango n mayor a 2; en este caso se manejarán n índices. Por ejemplo un tensor de rango 3 maneja 3 índices. Como se puede observar, el tensor se visualiza como si constara de dos matrices."
   ]
  },
  {
   "cell_type": "code",
   "execution_count": 4,
   "id": "983a9931",
   "metadata": {},
   "outputs": [
    {
     "name": "stdout",
     "output_type": "stream",
     "text": [
      "[[[ 0.   5.   1. ]\n",
      "  [ 3.   0.   2. ]\n",
      "  [ 0.   2.   0. ]]\n",
      "\n",
      " [[ 2.   1.  10. ]\n",
      "  [ 5.   4.   9. ]\n",
      "  [ 1.   0.   0.5]]]\n"
     ]
    }
   ],
   "source": [
    "#Tensor de rango 3\n",
    "T = np.array([[[0, 5, 1],\n",
    "                [3, 0, 2],\n",
    "                [0, 2, 0]],\n",
    "              [[2, 1, 10],\n",
    "               [5, 4, 9],\n",
    "               [1, 0, 0.5]]])\n",
    "\n",
    "print(T)"
   ]
  },
  {
   "cell_type": "markdown",
   "id": "abcd9caf",
   "metadata": {},
   "source": [
    "## Tensores en PyTorch y Tensorflow\n",
    "\n",
    "Paqueterías que serán de suma importancia para el desarrollo de redes neuronales son PyTorch y Tensorflow. En tanto las redes neuronales trabajan con tensores, estas librerías permiten el manejo de diferentes tipos de tensores, de diferente rango. En general, estas librerias crean tensores con diferentes funciones:\n",
    "\n",
    "1. En pytorch suele usarse <tt>tensor</tt> o <tt>Tensor</tt>.\n",
    "2. En tensorflow puede usarse <tt>constant</tt>"
   ]
  },
  {
   "cell_type": "code",
   "execution_count": 7,
   "id": "437905b7",
   "metadata": {},
   "outputs": [
    {
     "name": "stderr",
     "output_type": "stream",
     "text": [
      "2023-08-04 15:35:41.110221: I tensorflow/core/util/port.cc:110] oneDNN custom operations are on. You may see slightly different numerical results due to floating-point round-off errors from different computation orders. To turn them off, set the environment variable `TF_ENABLE_ONEDNN_OPTS=0`.\n",
      "2023-08-04 15:35:41.143175: I tensorflow/core/platform/cpu_feature_guard.cc:182] This TensorFlow binary is optimized to use available CPU instructions in performance-critical operations.\n",
      "To enable the following instructions: AVX2 AVX512F AVX512_VNNI FMA, in other operations, rebuild TensorFlow with the appropriate compiler flags.\n",
      "2023-08-04 15:35:41.628781: W tensorflow/compiler/tf2tensorrt/utils/py_utils.cc:38] TF-TRT Warning: Could not find TensorRT\n"
     ]
    },
    {
     "name": "stdout",
     "output_type": "stream",
     "text": [
      "tensor([2, 3, 3])\n",
      "tf.Tensor([2 3 3], shape=(3,), dtype=int32)\n"
     ]
    }
   ],
   "source": [
    "import torch\n",
    "import tensorflow as tf\n",
    "\n",
    "x = torch.tensor([2,3,3])\n",
    "x_tf = tf.constant([2,3,3])\n",
    "\n",
    "print(x)\n",
    "print(x_tf)"
   ]
  },
  {
   "cell_type": "code",
   "execution_count": 8,
   "id": "7460c605",
   "metadata": {},
   "outputs": [
    {
     "name": "stdout",
     "output_type": "stream",
     "text": [
      "tensor([[0, 5, 1],\n",
      "        [3, 0, 2],\n",
      "        [0, 2, 0]])\n",
      "tf.Tensor(\n",
      "[[0 5 1]\n",
      " [3 0 2]\n",
      " [0 2 0]], shape=(3, 3), dtype=int32)\n"
     ]
    }
   ],
   "source": [
    "A = torch.tensor([[0, 5, 1],\n",
    "                  [3, 0, 2],\n",
    "                  [0, 2, 0]])\n",
    "\n",
    "A_tf = tf.constant([[0, 5, 1],\n",
    "                  [3, 0, 2],\n",
    "                  [0, 2, 0]])\n",
    "\n",
    "print(A)\n",
    "print(A_tf)"
   ]
  },
  {
   "cell_type": "code",
   "execution_count": 9,
   "id": "ab16d632",
   "metadata": {},
   "outputs": [
    {
     "name": "stdout",
     "output_type": "stream",
     "text": [
      "tensor([[[ 0.0000,  5.0000,  1.0000],\n",
      "         [ 3.0000,  0.0000,  2.0000],\n",
      "         [ 0.0000,  2.0000,  0.0000]],\n",
      "\n",
      "        [[ 2.0000,  1.0000, 10.0000],\n",
      "         [ 5.0000,  4.0000,  9.0000],\n",
      "         [ 1.0000,  0.0000,  0.5000]]])\n",
      "tf.Tensor(\n",
      "[[[ 0.   5.   1. ]\n",
      "  [ 3.   0.   2. ]\n",
      "  [ 0.   2.   0. ]]\n",
      "\n",
      " [[ 2.   1.  10. ]\n",
      "  [ 5.   4.   9. ]\n",
      "  [ 1.   0.   0.5]]], shape=(2, 3, 3), dtype=float32)\n"
     ]
    }
   ],
   "source": [
    "T = torch.tensor([[[0, 5, 1],\n",
    "                    [3, 0, 2],\n",
    "                    [0, 2, 0]],\n",
    "                  [[2, 1, 10],\n",
    "                   [5, 4, 9],\n",
    "                   [1, 0, 0.5]]])\n",
    "\n",
    "T_tf = tf.constant([[[0, 5, 1],\n",
    "                    [3, 0, 2],\n",
    "                    [0, 2, 0]],\n",
    "                  [[2, 1, 10],\n",
    "                   [5, 4, 9],\n",
    "                   [1, 0, 0.5]]])\n",
    "\n",
    "print(T)\n",
    "print(T_tf)"
   ]
  },
  {
   "cell_type": "markdown",
   "id": "2e6c992c",
   "metadata": {},
   "source": [
    "### Dimensiones de los tensores\n",
    "\n",
    "Las dimensiones de los tensores es el número de datos númericos que contiene por cada índice. Por ejemplo, una matriz de $2 \\times 3$ nos dice que tiene 2 renglones, es decir que el índice de los renglones son dos. Mientras que tiene 3 índices para las columnas.\n",
    "\n",
    "Por medios de las paqueterías que estamos revisando, podemos ver las dimensiones que tienen los tensores que hemos creado. En cada paquetería se usan diferentes funciones:\n",
    "\n",
    "* Numpy: <tt>T.shape</tt>\n",
    "* Tensorflow: <tt>T.shape</tt>\n",
    "* PyTorch <tt>T.size()</tt>"
   ]
  },
  {
   "cell_type": "code",
   "execution_count": 10,
   "id": "69dffb41",
   "metadata": {},
   "outputs": [
    {
     "name": "stdout",
     "output_type": "stream",
     "text": [
      "Tensor tensor([2, 3, 3]) tiene dimensiones: torch.Size([3])\n",
      "Tensor tensor([[0, 5, 1],\n",
      "        [3, 0, 2],\n",
      "        [0, 2, 0]]) tiene dimensiones: torch.Size([3, 3])\n",
      "Tensor tensor([[[ 0.0000,  5.0000,  1.0000],\n",
      "         [ 3.0000,  0.0000,  2.0000],\n",
      "         [ 0.0000,  2.0000,  0.0000]],\n",
      "\n",
      "        [[ 2.0000,  1.0000, 10.0000],\n",
      "         [ 5.0000,  4.0000,  9.0000],\n",
      "         [ 1.0000,  0.0000,  0.5000]]]) tiene dimensiones: torch.Size([2, 3, 3])\n"
     ]
    }
   ],
   "source": [
    "print('Tensor {} tiene dimensiones: {}'.format(x, x.size()))\n",
    "print('Tensor {} tiene dimensiones: {}'.format(A, A.size()))\n",
    "print('Tensor {} tiene dimensiones: {}'.format(T, T.size()))"
   ]
  },
  {
   "cell_type": "markdown",
   "id": "0fbfdc7f",
   "metadata": {},
   "source": [
    "### Acceder a las entradas del tensor\n",
    "\n",
    "Acceder a una entrada del tensor implica obtener el dato numérico que se encuentra en el correspondiente índice de ese tensor. Es decir, es obtener el valor $T_{i_1, i_2,...,i_n}$ del tensor.\n",
    "\n",
    "Por ejemplo, en una matriz queremos ver que valor numérico se encuentra en $A_{1,2}$ es decir el la primera columna y el renglón 2. Para esto, generalmente se usa la notación:\n",
    "\n",
    "$$T[i_1, i_2, ...,i_n]$$\n",
    "\n",
    "Con valores específicos para cada índice. Vemos unos ejemplos:"
   ]
  },
  {
   "cell_type": "code",
   "execution_count": 11,
   "id": "cfa2d432",
   "metadata": {},
   "outputs": [
    {
     "name": "stdout",
     "output_type": "stream",
     "text": [
      "tensor(2)\n",
      "tensor(9.)\n",
      "tensor([[0., 5., 1.],\n",
      "        [3., 0., 2.],\n",
      "        [0., 2., 0.]])\n"
     ]
    }
   ],
   "source": [
    "print(A[1,2])\n",
    "print(T[1,1,2])\n",
    "\n",
    "print(T[0])"
   ]
  },
  {
   "cell_type": "code",
   "execution_count": 12,
   "id": "415059c7",
   "metadata": {},
   "outputs": [
    {
     "name": "stdout",
     "output_type": "stream",
     "text": [
      "tensor([[[ 0.0000,  5.0000,  1.0000],\n",
      "         [ 3.0000,  0.0000,  2.0000],\n",
      "         [ 0.0000,  2.0000,  0.0000]],\n",
      "\n",
      "        [[ 2.0000,  1.0000, 10.0000],\n",
      "         [ 5.0000,  4.0000,  9.0000],\n",
      "         [ 1.0000,  0.0000,  0.5000]]])\n",
      "tensor([10.0000,  9.0000,  0.5000])\n"
     ]
    }
   ],
   "source": [
    "print(T)\n",
    "print(T[1,:,2])"
   ]
  },
  {
   "cell_type": "markdown",
   "id": "edb4c6f5",
   "metadata": {},
   "source": [
    "     "
   ]
  }
 ],
 "metadata": {
  "kernelspec": {
   "display_name": "Python 3 (ipykernel)",
   "language": "python",
   "name": "python3"
  },
  "language_info": {
   "codemirror_mode": {
    "name": "ipython",
    "version": 3
   },
   "file_extension": ".py",
   "mimetype": "text/x-python",
   "name": "python",
   "nbconvert_exporter": "python",
   "pygments_lexer": "ipython3",
   "version": "3.10.9"
  }
 },
 "nbformat": 4,
 "nbformat_minor": 5
}
