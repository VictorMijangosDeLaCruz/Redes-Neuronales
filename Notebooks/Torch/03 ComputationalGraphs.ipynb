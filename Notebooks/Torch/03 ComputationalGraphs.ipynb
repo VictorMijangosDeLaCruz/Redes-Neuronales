{
 "cells": [
  {
   "cell_type": "markdown",
   "id": "cc92c18b",
   "metadata": {},
   "source": [
    "# Gráficas computacionales\n",
    "\n",
    "Las gráficas computacionales modelan las variables y las operaciones entre variables para computar una función matemática. Su importancia es que en funciones compuestas que toman varios argumentos, como $(f_1 \\circ f_2 \\circ \\cdots \\circ f_n)(x_1,...,x_m)$, pues dentro de la gráficas cada variable $x_i$ se asigna un valor, y cada nodo de la gráfica hace un cálculo por cada función $f_i$ para usar las salidas en funciones de mayor nivel. \n",
    "\n",
    "Otra aplicación de suma importancia de las gráficas computacionales es poder obtener las derivadas de estas funciones sobre distintas variables. De tal forma, que podemos recuperar el gradiente de la función.\n",
    "\n",
    "Distinguimos dos tipos de gráficas computacionales:\n",
    "\n",
    "* Estáticas\n",
    "* Dinámicas\n",
    "\n",
    "## Gráfica estática\n",
    "\n",
    "En una gráfica estática, que construimos a partir de TensorFlow, definimos la gráfica usando para las variables el método de <tt>placeholder</tt> para indicar que serán nodos de entrada, y de qué tipo serán estos nodos (flotantes de 32 bits).\n",
    "\n",
    "Ya que aquí los nodos para las entradas representan variables (no valores constantes con los que se puedan hacer las operaciones), definimos un diccionario (<tt>feed_dict</tt>) que alimenta a la gráfica indicando qué valores se les asignarán a cada uno de estas variables en los nodos.\n",
    "\n",
    "Asimismo, definimos las operaciones, representadas por $a=y-z$ y $b=xa^2$.\n",
    "\n",
    "Para aplicar tanto el paso forward como el backward debemos crear una sesión en tensorflow por medio de <tt>t.Session()</tt>. En esta sesión usamos el comando $run()$ que toma como valores los nodos de operaciones de las gráficas; en este caso, indicar que primero se ejecuta $a$ y después $b$ (esto se indica como $[a,b]$); asimismo, le pasamos el diccionario de valores con que se alimenta, pues necesita saber sobre que valores calculará el forward.\n",
    "\n",
    "De igual forma, en el backward para computar el gradiente, debemos usar la función <tt>run</tt> e indicar que en la gráfica se computará el gradiente, <tt>tf.gradients()</tt>, indicando de nuevo la estructura de la gráfica: por ejemplo, para obtener la derivada de $b$ sobre $x$, debemos indicar el orden de los nodos.\n",
    "\n",
    "En general, como podemos ver, en la gráfica computacional estática definimos de principio la estructura concreta de ésta, y como se interrelacionan los nodos entre sí para obtener los resultados que buscamos."
   ]
  },
  {
   "cell_type": "code",
   "execution_count": 57,
   "id": "e6f21b69",
   "metadata": {},
   "outputs": [
    {
     "name": "stdout",
     "output_type": "stream",
     "text": [
      "Salida: [array([2.], dtype=float32), array([4.], dtype=float32), array([8.], dtype=float32)]\n",
      "Valores de gradiente: [4.0 8.0 -8.0]\n"
     ]
    }
   ],
   "source": [
    "import tensorflow.compat.v1 as tf\n",
    "tf.disable_v2_behavior()\n",
    "\n",
    "def static(x1,x2,x3):\n",
    "    # Las variables place-holder son los nodos entrada de la gráfica\n",
    "    x = tf.placeholder(tf.float32)\n",
    "    y = tf.placeholder(tf.float32)\n",
    "    z = tf.placeholder(tf.float32)\n",
    "    \n",
    "    #Generamos un diccionario que contiene los valores asignados a cada argumento.\n",
    "    feed_dict={x:[x1], y:[x2], z:[x3]}\n",
    "\n",
    "    # Definimos las operaciones de los nodos\n",
    "    a = y-z\n",
    "    c = a**2\n",
    "    b = x*c #a**2\n",
    "    \n",
    "    # Ininicialización de la sesión tensorflow\n",
    "    with tf.Session() as sess:\n",
    "        # Corre la gráfica en paso forward\n",
    "        out = sess.run([a,c,b], feed_dict=feed_dict) #[1][0]\n",
    "        \n",
    "        # Corre la gráfica en paso backward para cada gradiente\n",
    "        dx = sess.run(tf.gradients(b,x), feed_dict=feed_dict)[0][0]\n",
    "        dy = sess.run(tf.gradients(b,y), feed_dict=feed_dict)[0][0]\n",
    "        dz = sess.run(tf.gradients(b,z), feed_dict=feed_dict)[0][0]\n",
    "\n",
    "        print('Salida: {}'.format(out))\n",
    "        print('Valores de gradiente: [{} {} {}]'.format(dx, dy, dz))\n",
    "        \n",
    "        \n",
    "static(2.0,5.0,3.0)"
   ]
  },
  {
   "cell_type": "markdown",
   "id": "5b3893ad",
   "metadata": {},
   "source": [
    "## Gráfica dinámica\n",
    "\n",
    "Para ejemplificar la gráfica dinámica para la misma función ($b = x(y-z)^2)$ usamos pytorch. En este caso, podemos ver que los argumentos de entrada se asignan inmediatamente a los valores de los argumentos que va a tomar la gráfica. \n",
    "\n",
    "Las operaciones, de igual forma, se computan de manera inmediata con los valores de los argumentos. Es decir, no necesitamos definir un diccionario de valores, pues estos fluyen de manera inmediata. Podríamos pensar que las operaciones se realizan en el flujo de la información en las aristas; no es necesario ejecutar una orden de correor <tt>run</tt>.\n",
    "\n",
    "El paso backward es muy simple, pues sólo falta indicar al valor de salida $b$, que compute el backward por medio del método <tt>.backward()</tt>. En este caso, lo que la gráfica hace es que, una vez computado los valores en cada nodo, corre la gráfica en sentido inverso para obtener las derivadas, las cuales se guardan en los mismos nodos (aquellos a los que se ha indicado que requieren gradiente <tt>requires_grad=True</tt>); es decir, los nodos tiene los valores tanto del paso forward como del backward.\n",
    "\n",
    "Al final, sólo accedemos al gradiente de ese nodo por medio de <tt>.grad</tt>."
   ]
  },
  {
   "cell_type": "code",
   "execution_count": 59,
   "id": "d01d72ec",
   "metadata": {},
   "outputs": [
    {
     "name": "stdout",
     "output_type": "stream",
     "text": [
      "Salida: 8.0\n",
      "Valores de gradiente: [4.0 8.0 -8.0]\n"
     ]
    }
   ],
   "source": [
    "import torch\n",
    "\n",
    "def dynamic(x1, x2, x3): \n",
    "    # Inicializa los tensores de entrada\n",
    "    x = torch.tensor(x1, requires_grad=True)\n",
    "    y = torch.tensor(x2, requires_grad=True)\n",
    "    z = torch.tensor(x3, requires_grad=True)\n",
    "\n",
    "    # Define el paso forward\n",
    "    a = y-z\n",
    "    b = x*a**2\n",
    "  \n",
    "    # Cómputa el backward\n",
    "    b.backward()\n",
    "    #Guarda las derivadas\n",
    "    dx, dy, dz = x.grad, y.grad, z.grad\n",
    "       \n",
    "    print('Salida: {}'.format(b))\n",
    "    print('Valores de gradiente: [{} {} {}]'.format(dx, dy, dz))\n",
    "    \n",
    "dynamic(2.0,5.0,3.0)"
   ]
  },
  {
   "cell_type": "markdown",
   "id": "240ba484",
   "metadata": {},
   "source": [
    "   "
   ]
  }
 ],
 "metadata": {
  "kernelspec": {
   "display_name": "Python 3 (ipykernel)",
   "language": "python",
   "name": "python3"
  },
  "language_info": {
   "codemirror_mode": {
    "name": "ipython",
    "version": 3
   },
   "file_extension": ".py",
   "mimetype": "text/x-python",
   "name": "python",
   "nbconvert_exporter": "python",
   "pygments_lexer": "ipython3",
   "version": "3.10.9"
  }
 },
 "nbformat": 4,
 "nbformat_minor": 5
}
