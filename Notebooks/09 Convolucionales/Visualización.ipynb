{
 "cells": [
  {
   "cell_type": "markdown",
   "id": "6685aaed-b14d-4451-ae5c-5f2ae108d807",
   "metadata": {},
   "source": [
    "# Visualización\n",
    "\n",
    "Proyecto PAPIME PE102723\n",
    "\n",
    "**Referencias**\n",
    "* [Feature Visualization by Optimization](https://distill.pub/2017/feature-visualization/), Olah et al.\n",
    "\n",
    "Se utilizará una técnica de optimización de activación con respecto a los datos de entrada $X$ para identificar la imagen prototípica aprendida por una red convolucional, para cada concepto (clase ó etiqueta) entrenado."
   ]
  },
  {
   "cell_type": "code",
   "execution_count": 1,
   "id": "3f841662-e712-49c9-8c73-49cf3a89f5b6",
   "metadata": {},
   "outputs": [],
   "source": [
    "#!pip install ipywidgets"
   ]
  },
  {
   "cell_type": "code",
   "execution_count": 2,
   "id": "6c32fc81-f0ab-44ef-960b-3d4ef8518bbe",
   "metadata": {},
   "outputs": [],
   "source": [
    "from ipywidgets import interact_manual\n",
    "import ipywidgets as widgets"
   ]
  },
  {
   "cell_type": "markdown",
   "id": "390aaf0a-503d-41db-a0d3-b3d27f4d163a",
   "metadata": {},
   "source": [
    "## Datos de CIFAR-10"
   ]
  },
  {
   "cell_type": "code",
   "execution_count": 3,
   "id": "3af9ef7e-5953-4058-a629-9df57688359b",
   "metadata": {},
   "outputs": [],
   "source": [
    "#!pip3 install torch torchvision torchaudio  # con cuda 12.04\n",
    "#!pip3 install torch torchvision torchaudio --index-url https://download.pytorch.org/whl/cu118  # cpu, sin cuda"
   ]
  },
  {
   "cell_type": "code",
   "execution_count": 4,
   "id": "bc789069-7cdd-4cdf-834f-851755f298cf",
   "metadata": {},
   "outputs": [],
   "source": [
    "import torch\n",
    "import torchvision\n",
    "import torchvision.transforms as transforms"
   ]
  },
  {
   "cell_type": "code",
   "execution_count": 5,
   "id": "71731ac5-8579-4c59-894c-0a1ece459e8b",
   "metadata": {},
   "outputs": [],
   "source": [
    "# Torchvision devuelve imágenes en el rango [0, 1]\n",
    "# Necesitamos tensores en [-1,1].\n",
    "transform = transforms.Compose(\n",
    "    [transforms.ToTensor(),\n",
    "     transforms.Normalize((0.5, 0.5, 0.5), (0.5, 0.5, 0.5))])"
   ]
  },
  {
   "cell_type": "code",
   "execution_count": 6,
   "id": "0ae1bffa-2841-4ef4-b602-44a8fccd559f",
   "metadata": {},
   "outputs": [],
   "source": [
    "batch_size = 4\n",
    "\n",
    "trainset = torchvision.datasets.CIFAR10(root='./data', train=True,\n",
    "                                        download=True, transform=transform)\n",
    "trainloader = torch.utils.data.DataLoader(trainset, batch_size=batch_size,\n",
    "                                          shuffle=True, num_workers=2)\n",
    "\n",
    "testset = torchvision.datasets.CIFAR10(root='./data', train=False,\n",
    "                                       download=True, transform=transform)\n",
    "testloader = torch.utils.data.DataLoader(testset, batch_size=batch_size,\n",
    "                                         shuffle=False, num_workers=2)"
   ]
  },
  {
   "cell_type": "code",
   "execution_count": 7,
   "id": "bbd07864-2c8a-451c-b95a-f2a39b37cc62",
   "metadata": {},
   "outputs": [
    {
     "name": "stdout",
     "output_type": "stream",
     "text": [
      "['airplane', 'automobile', 'bird', 'cat', 'deer', 'dog', 'frog', 'horse', 'ship', 'truck']\n"
     ]
    }
   ],
   "source": [
    "label_names = trainset.classes\n",
    "print(label_names)"
   ]
  },
  {
   "cell_type": "code",
   "execution_count": 8,
   "id": "1c463995-1efe-48f2-bff0-16748a1d46d0",
   "metadata": {},
   "outputs": [],
   "source": [
    "# Conjuntos de datos\n",
    "import numpy as np\n",
    "from torch.utils.data.sampler import SubsetRandomSampler\n",
    "\n",
    "#Training\n",
    "n_training_samples = 20000\n",
    "train_sampler = SubsetRandomSampler(np.arange(n_training_samples, dtype=np.int64))\n",
    "\n",
    "#Validation\n",
    "n_val_samples = 5000\n",
    "val_sampler = SubsetRandomSampler(np.arange(n_training_samples, n_training_samples + n_val_samples, dtype=np.int64))\n",
    "\n",
    "#Test\n",
    "n_test_samples = 5000\n",
    "test_sampler = SubsetRandomSampler(np.arange(n_test_samples, dtype=np.int64))"
   ]
  },
  {
   "cell_type": "markdown",
   "id": "6b65c4ec-0c8d-4a9f-8ce3-b5d3697802df",
   "metadata": {},
   "source": [
    "## Red neuronal"
   ]
  },
  {
   "cell_type": "markdown",
   "id": "5e79bce9-56cf-4deb-87cc-e126b4736ecd",
   "metadata": {},
   "source": [
    "### Arquitectura\n",
    "\n",
    "<img src=\"./figuras/Tutorial.png\"/>"
   ]
  },
  {
   "cell_type": "code",
   "execution_count": 9,
   "id": "82a173d6-b934-4ee9-a81b-495cd4f51f80",
   "metadata": {},
   "outputs": [],
   "source": [
    "import torch.nn as nn\n",
    "import torch.nn.functional as F\n",
    "\n",
    "class SimpleCNN(nn.Module):\n",
    "    \n",
    "    #Our batch shape for input x is (3, 32, 32)\n",
    "    \n",
    "    def __init__(self):\n",
    "        super(SimpleCNN, self).__init__()\n",
    "        \n",
    "        #Input channels = 3, output channels = 18\n",
    "        self.conv1 = torch.nn.Conv2d(3, 18, kernel_size=3, stride=1, padding=1)\n",
    "        self.pool = torch.nn.MaxPool2d(kernel_size=2, stride=2, padding=0)\n",
    "        \n",
    "        #4608 input features, 64 output features (see sizing flow below)\n",
    "        self.fc1 = torch.nn.Linear(18 * 16 * 16, 64)\n",
    "        \n",
    "        #64 input features, 10 output features for our 10 defined classes\n",
    "        self.fc2 = torch.nn.Linear(64, 10)\n",
    "        \n",
    "    def forward(self, x):\n",
    "        \n",
    "        #Computes the activation of the first convolution\n",
    "        #Size changes from (3, 32, 32) to (18, 32, 32)\n",
    "        x = F.relu(self.conv1(x))\n",
    "        \n",
    "        #Size changes from (18, 32, 32) to (18, 16, 16)\n",
    "        x = self.pool(x)\n",
    "        \n",
    "        #Reshape data to input to the input layer of the neural net\n",
    "        #Size changes from (18, 16, 16) to (1, 4608)\n",
    "        #Recall that the -1 infers this dimension from the other given dimension\n",
    "        x = torch.flatten(x, 1) # flatten all dimensions except batch\n",
    "        \n",
    "        #Computes the activation of the first fully connected layer\n",
    "        #Size changes from (1, 4608) to (1, 64)\n",
    "        x = F.relu(self.fc1(x))\n",
    "        \n",
    "        #Computes the second fully connected layer (activation applied later)\n",
    "        #Size changes from (1, 64) to (1, 10)\n",
    "        x = self.fc2(x)\n",
    "        return(x)"
   ]
  },
  {
   "cell_type": "code",
   "execution_count": 10,
   "id": "a47d5468-a969-4cb0-8461-64e8b4ab22cf",
   "metadata": {},
   "outputs": [],
   "source": [
    "net = SimpleCNN()"
   ]
  },
  {
   "cell_type": "code",
   "execution_count": 11,
   "id": "447f0efc-1d60-47dc-b418-ce516efe4d0c",
   "metadata": {},
   "outputs": [
    {
     "data": {
      "text/plain": [
       "<All keys matched successfully>"
      ]
     },
     "execution_count": 11,
     "metadata": {},
     "output_type": "execute_result"
    }
   ],
   "source": [
    "# Cargamos los parámetros entrenados en el otro cuaderno\n",
    "\n",
    "PATH = './data/cifar_net.pth'\n",
    "net.load_state_dict(torch.load(PATH))"
   ]
  },
  {
   "cell_type": "code",
   "execution_count": 12,
   "id": "2f56bb33-fd9a-462d-a298-9b54cd543cdb",
   "metadata": {},
   "outputs": [],
   "source": [
    "import torch.optim as optim"
   ]
  },
  {
   "cell_type": "code",
   "execution_count": 13,
   "id": "fbe92cc0-5d5d-4373-9290-56d8781b7877",
   "metadata": {},
   "outputs": [],
   "source": [
    "# Muestra la imagen\n",
    "import matplotlib.pyplot as plt\n",
    "\n",
    "def imshow(img):\n",
    "    img = img / 2 + 0.5     # unnormalize\n",
    "    npimg = img.numpy()\n",
    "    plt.imshow(np.transpose(npimg, (1, 2, 0)))"
   ]
  },
  {
   "cell_type": "markdown",
   "id": "09f342db-a7fb-4c9a-8586-9e1731cdddf0",
   "metadata": {},
   "source": [
    "### Selección de la imagen inicial"
   ]
  },
  {
   "cell_type": "markdown",
   "id": "51da2071-b831-42c8-ae72-69afa3c4eeee",
   "metadata": {},
   "source": [
    "#### Del conjunto de datos\n",
    "\n",
    "Se puede introducir como punto de partida una de las imágenes del conjunto de datos, el proceso de optimización modificará esta imagen hacia un mínimo del valor de activación de la neurona correspondiente al concepto de interés."
   ]
  },
  {
   "cell_type": "code",
   "execution_count": 14,
   "id": "76394d7c-92b8-4acd-bf4f-d8dde3d350e2",
   "metadata": {},
   "outputs": [],
   "source": [
    "# Tomamos una imagen del conjunto como valor inicial\n",
    "dataiter = iter(testloader)\n",
    "images, labels = next(dataiter)"
   ]
  },
  {
   "cell_type": "code",
   "execution_count": 15,
   "id": "71e9a4fa-c0e0-48cf-8afa-b2bd684071ab",
   "metadata": {},
   "outputs": [],
   "source": [
    "# El lote tiene tamaño 4, tomamos una de las imágenes\n",
    "ind = 3                  # Imagen en el lote como punto de partida\n",
    "x = images[ind:ind+1]    # Para mantener las dimensiones\n",
    "x.requires_grad = True   # Calcularemos el gradiente con respecto a x"
   ]
  },
  {
   "cell_type": "code",
   "execution_count": 16,
   "id": "dd088480-9e07-4b86-9c8c-e16fccf43f12",
   "metadata": {},
   "outputs": [
    {
     "data": {
      "image/png": "[encoded data removed]",
      "text/plain": [
       "<Figure size 640x480 with 1 Axes>"
      ]
     },
     "metadata": {},
     "output_type": "display_data"
    }
   ],
   "source": [
    "avión = x.detach()[0]\n",
    "imshow(avión)"
   ]
  },
  {
   "cell_type": "markdown",
   "id": "5799f771-e250-45b2-82a1-f4cf27bee58e",
   "metadata": {},
   "source": [
    "#### Ruido\n",
    "\n",
    "El punto de partida o imagen inicial, podría ser también ruido aleatorio."
   ]
  },
  {
   "cell_type": "code",
   "execution_count": 17,
   "id": "9d662f69-a1d2-4d3d-893c-4c2c66d966c1",
   "metadata": {},
   "outputs": [],
   "source": [
    "def ruido_centrado():\n",
    "    \"\"\"\n",
    "    Crea una imagen de ruido aleatorio en el rango \n",
    "    requerido por la red, cuyo tensor sea una hoja,\n",
    "    tal como requiere la función optimize.\n",
    "    \"\"\"\n",
    "    ruido = torch.rand(1, 3, 32, 32) - 0.5       # Hay una resta, no es hoja.\n",
    "    ruido = ruido.detach().requires_grad_(True)  # Lo convierte en hoja para poder sacar el gradiente\n",
    "    return ruido"
   ]
  },
  {
   "cell_type": "code",
   "execution_count": 18,
   "id": "2fd6d37c-4c79-4832-b3e7-45f83e161137",
   "metadata": {},
   "outputs": [
    {
     "data": {
      "image/png": "[encoded data removed]",
      "text/plain": [
       "<Figure size 640x480 with 1 Axes>"
      ]
     },
     "metadata": {},
     "output_type": "display_data"
    }
   ],
   "source": [
    "x = ruido_centrado()\n",
    "imshow(x.detach()[0])"
   ]
  },
  {
   "cell_type": "code",
   "execution_count": 19,
   "id": "9bc9b08d-1bd0-4d91-861b-fa1389da43b8",
   "metadata": {},
   "outputs": [
    {
     "name": "stdout",
     "output_type": "stream",
     "text": [
      "True\n"
     ]
    }
   ],
   "source": [
    "print(x.requires_grad)"
   ]
  },
  {
   "cell_type": "markdown",
   "id": "a242832b-185a-4120-a1e5-4a647af27b5d",
   "metadata": {},
   "source": [
    "### Cálculo del gradiente\n",
    "\n",
    "A diferencia del proceso de entrenamiento, donde las variables a modificar son los pesos de la red, ahora las variables son las intensidades de los pixeles en cada canal RGB en la imagen de entrada."
   ]
  },
  {
   "cell_type": "code",
   "execution_count": 21,
   "id": "66c1cf5e-11d8-4f0b-a0b4-88f1329db807",
   "metadata": {},
   "outputs": [
    {
     "data": {
      "image/png": "[encoded data removed]",
      "text/plain": [
       "<Figure size 640x480 with 1 Axes>"
      ]
     },
     "metadata": {},
     "output_type": "display_data"
    }
   ],
   "source": [
    "# Solicitamos el cálculo del gradiente con respecto a x\n",
    "\n",
    "#https://stackoverflow.com/questions/69711410/could-not-initialize-nnpack\n",
    "#torch.backends.nnpack.enabled = False\n",
    "\n",
    "net.zero_grad()         # Buffer de gradientes de la red a ceros\n",
    "x.grad = None           # Borra el buffer\n",
    "output = -net(x)        # Queremos minimizar el negativo de la activación\n",
    "output[0,0].backward()  # Calcula el gradiente para la activación de la neurona 0\n",
    "imshow(x.grad.detach()[0])\n",
    "_ = plt.title(\"Gradiente con respecto a los pixeles de la imagen\")"
   ]
  },
  {
   "cell_type": "markdown",
   "id": "c696594c-7078-45e7-9720-f27ada072672",
   "metadata": {},
   "source": [
    "### Optimización de una neurona de salida"
   ]
  },
  {
   "cell_type": "code",
   "execution_count": 20,
   "id": "8eee3fa1-5fb3-487b-aa81-3ee66e6e26d7",
   "metadata": {},
   "outputs": [],
   "source": [
    "# Indicamos algoritmo de optmización\n",
    "\n",
    "#optimizer = optim.SGD((x,), lr=100, momentum=0.9)\n",
    "optimizer = torch.optim.Adam((x,))"
   ]
  },
  {
   "cell_type": "code",
   "execution_count": 21,
   "id": "832e614a-de0c-48e5-9b5a-25d67bb1a22b",
   "metadata": {},
   "outputs": [
    {
     "data": {
      "application/vnd.jupyter.widget-view+json": {
       "model_id": "d83d1fb81b684b24b307909ab56b3c74",
       "version_major": 2,
       "version_minor": 0
      },
      "text/plain": [
       "interactive(children=(IntSlider(value=0, description='one_hot_neuron', max=9), Button(description='Run Interac…"
      ]
     },
     "metadata": {},
     "output_type": "display_data"
    }
   ],
   "source": [
    "@interact_manual(\n",
    "    one_hot_neuron = widgets.IntSlider(\n",
    "        value=0,\n",
    "        min=0,\n",
    "        max=9,\n",
    "        step=1,\n",
    "    )\n",
    ")\n",
    "def optimiza_entrada(one_hot_neuron):\n",
    "    hot_neuron_value = None\n",
    "    for i in range(1000):\n",
    "        optimizer.zero_grad()\n",
    "        output = -net(x)   # To maximize\n",
    "        hot_neuron_value = output[0,one_hot_neuron]\n",
    "        hot_neuron_value.backward()\n",
    "        optimizer.step()\n",
    "    print(label_names[one_hot_neuron])\n",
    "    print(-hot_neuron_value)\n",
    "    #print(x.grad)\n",
    "    imshow(torch.cat((x[0].detach(), x.grad.detach()[0]), 2))"
   ]
  },
  {
   "cell_type": "code",
   "execution_count": 22,
   "id": "02a90865-2762-4a62-8517-d954af2b5be9",
   "metadata": {},
   "outputs": [
    {
     "name": "stdout",
     "output_type": "stream",
     "text": [
      "tensor(55.7574) :\t airplane\n",
      "tensor(-32.4833) :\t automobile\n",
      "tensor(33.4836) :\t bird\n",
      "tensor(-34.8420) :\t cat\n",
      "tensor(2.7582) :\t deer\n",
      "tensor(-34.9024) :\t dog\n",
      "tensor(-52.3748) :\t frog\n",
      "tensor(-29.0276) :\t horse\n",
      "tensor(-22.9905) :\t ship\n",
      "tensor(-53.9804) :\t truck\n"
     ]
    }
   ],
   "source": [
    "# Veamos los valores de activación con la imagen optimizada\n",
    "salidas = net(x).detach()[0]\n",
    "for lb, val in zip(label_names, salidas):\n",
    "    print(val, \":\\t\", lb)"
   ]
  },
  {
   "cell_type": "markdown",
   "id": "e876c9fe-5600-42b9-9651-59269173beb1",
   "metadata": {},
   "source": [
    "### Optimización con transformaciones\n",
    "\n",
    "Para obtener imágenes con mayor significado, Olah et al. proponen realizar transformaciones a las imágenes obtenidas en cada paso del proceso de optimización."
   ]
  },
  {
   "cell_type": "code",
   "execution_count": 24,
   "id": "d1f75094-dc3d-483e-9a45-d668fa17395f",
   "metadata": {},
   "outputs": [],
   "source": [
    "blurrer = torchvision.transforms.GaussianBlur(3,0.27)\n",
    "# jitter = torchvision.transforms.ColorJitter(hue=0.3, saturation=0.3, contrast=0.3)\n",
    "original_x = x"
   ]
  },
  {
   "cell_type": "code",
   "execution_count": 25,
   "id": "ebd9d7bd-3752-4588-99c1-c064a2a3418b",
   "metadata": {},
   "outputs": [
    {
     "data": {
      "application/vnd.jupyter.widget-view+json": {
       "model_id": "ca4ea4672ee940adba5ec865053b6509",
       "version_major": 2,
       "version_minor": 0
      },
      "text/plain": [
       "interactive(children=(IntSlider(value=0, description='one_hot_neuron', max=9), Button(description='Run Interac…"
      ]
     },
     "metadata": {},
     "output_type": "display_data"
    }
   ],
   "source": [
    "@interact_manual(\n",
    "    one_hot_neuron = widgets.IntSlider(\n",
    "        value=0,\n",
    "        min=0,\n",
    "        max=9,\n",
    "        step=1,\n",
    "    )\n",
    ")\n",
    "def optimiza_entrada(one_hot_neuron):\n",
    "    global original_x\n",
    "    x = original_x.clone().detach().requires_grad_(True)\n",
    "    print(x.requires_grad)\n",
    "    hot_neuron_value = None\n",
    "    for i in range(4000):\n",
    "        x = blurrer(x).detach().requires_grad_(True)\n",
    "        optimizer = torch.optim.Adam((x,))\n",
    "        optimizer.zero_grad()\n",
    "        #tr_x = jitter(x)\n",
    "        #output = -net(tr_x)   # To maximize\n",
    "        output = -net(x)   # To maximize\n",
    "        hot_neuron_value = output[0,one_hot_neuron]\n",
    "        hot_neuron_value.backward()\n",
    "        #x = jitter(x)\n",
    "        optimizer.step()\n",
    "    print(label_names[one_hot_neuron])\n",
    "    print(-hot_neuron_value)\n",
    "    print(x.requires_grad)\n",
    "    #print(x.grad)\n",
    "    original_x = x\n",
    "    \n",
    "    imshow(torch.cat((x[0].detach(), x.grad.detach()[0]), 2))"
   ]
  },
  {
   "cell_type": "code",
   "execution_count": 26,
   "id": "8d74c574-318c-46c6-af36-76b10130d87c",
   "metadata": {},
   "outputs": [
    {
     "name": "stdout",
     "output_type": "stream",
     "text": [
      "tensor(38.1524) :\t airplane\n",
      "tensor(23.4922) :\t automobile\n",
      "tensor(-38.2688) :\t bird\n",
      "tensor(-48.6123) :\t cat\n",
      "tensor(-2.9794) :\t deer\n",
      "tensor(-29.7943) :\t dog\n",
      "tensor(-114.7742) :\t frog\n",
      "tensor(37.3141) :\t horse\n",
      "tensor(17.1193) :\t ship\n",
      "tensor(-28.0432) :\t truck\n"
     ]
    }
   ],
   "source": [
    "# Veamos los valores de activación con la imagen optimizada\n",
    "salidas = net(original_x).detach()[0]\n",
    "for lb, val in zip(label_names, salidas):\n",
    "    print(val, \":\\t\", lb)"
   ]
  },
  {
   "cell_type": "code",
   "execution_count": 27,
   "id": "d4d9e6db-8349-42b8-bb7b-fda7ab7f93f9",
   "metadata": {},
   "outputs": [
    {
     "name": "stderr",
     "output_type": "stream",
     "text": [
      "Clipping input data to the valid range for imshow with RGB data ([0..1] for floats or [0..255] for integers). Got range [-3.8029969..3.8367927].\n"
     ]
    },
    {
     "data": {
      "text/plain": [
       "<matplotlib.image.AxesImage at 0x73de8356db50>"
      ]
     },
     "execution_count": 27,
     "metadata": {},
     "output_type": "execute_result"
    },
    {
     "data": {
      "image/png": "[encoded data removed]",
      "text/plain": [
       "<Figure size 640x480 with 1 Axes>"
      ]
     },
     "metadata": {},
     "output_type": "display_data"
    }
   ],
   "source": [
    "plt.imshow(np.transpose(x.detach().numpy()[0], (1, 2, 0)))"
   ]
  },
  {
   "cell_type": "code",
   "execution_count": 28,
   "id": "99284704-0819-4daa-a6e9-6debe0fb3e21",
   "metadata": {},
   "outputs": [
    {
     "name": "stderr",
     "output_type": "stream",
     "text": [
      "Clipping input data to the valid range for imshow with RGB data ([0..1] for floats or [0..255] for integers). Got range [-3.7868662..3.8286872].\n"
     ]
    },
    {
     "data": {
      "text/plain": [
       "<matplotlib.image.AxesImage at 0x73de82f84c80>"
      ]
     },
     "execution_count": 28,
     "metadata": {},
     "output_type": "execute_result"
    },
    {
     "data": {
      "image/png": "[encoded data removed]",
      "text/plain": [
       "<Figure size 640x480 with 1 Axes>"
      ]
     },
     "metadata": {},
     "output_type": "display_data"
    }
   ],
   "source": [
    "jx = blurrer(x)\n",
    "plt.imshow(np.transpose(jx.detach().numpy()[0], (1, 2, 0)))"
   ]
  },
  {
   "cell_type": "code",
   "execution_count": 29,
   "id": "a8fba09f-1f2f-4e74-b73b-d6e92232edc3",
   "metadata": {},
   "outputs": [
    {
     "name": "stderr",
     "output_type": "stream",
     "text": [
      "Clipping input data to the valid range for imshow with RGB data ([0..1] for floats or [0..255] for integers). Got range [-3.8029969..3.8367927].\n"
     ]
    },
    {
     "data": {
      "text/plain": [
       "<matplotlib.image.AxesImage at 0x73de82e831a0>"
      ]
     },
     "execution_count": 29,
     "metadata": {},
     "output_type": "execute_result"
    },
    {
     "data": {
      "image/png": "[encoded data removed]",
      "text/plain": [
       "<Figure size 640x480 with 1 Axes>"
      ]
     },
     "metadata": {},
     "output_type": "display_data"
    }
   ],
   "source": [
    "plt.imshow(np.transpose(x.detach().numpy()[0], (1, 2, 0)))"
   ]
  },
  {
   "cell_type": "code",
   "execution_count": 22,
   "id": "330f67de-2afd-478c-8f80-e1769c5de4e0",
   "metadata": {},
   "outputs": [],
   "source": [
    "# TODO: Intenta ahora devolver los valores de los pixeles al rango válido [0-255] entre iteraciones para obtener imágenes válidas."
   ]
  }
 ],
 "metadata": {
  "kernelspec": {
   "display_name": "Python 3 (ipykernel)",
   "language": "python",
   "name": "python3"
  },
  "language_info": {
   "codemirror_mode": {
    "name": "ipython",
    "version": 3
   },
   "file_extension": ".py",
   "mimetype": "text/x-python",
   "name": "python",
   "nbconvert_exporter": "python",
   "pygments_lexer": "ipython3",
   "version": "3.12.3"
  }
 },
 "nbformat": 4,
 "nbformat_minor": 5
}
