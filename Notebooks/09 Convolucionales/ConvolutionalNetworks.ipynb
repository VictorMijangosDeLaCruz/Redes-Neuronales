{
 "cells": [
  {
   "cell_type": "markdown",
   "id": "888d164e",
   "metadata": {},
   "source": [
    "# Redes convolucionales\n",
    "\n",
    "Las redes convolucionales toman su nombre del concepto de convolución de funciones. Una convolución es un operador que toma una función y arroja una nueva función en base a kernel (o filtro). En sentido estricto, las redes convolucionales implementan el operador de correlación cruzada, pero llamaremos a estas capas convolucionales. \n",
    "\n",
    "Las redes convolucionales son especialmente importante para las imágenes, pues la convolución es una operación que es equivariante ante translaciones. Es decir, si $T$ es una traslación, entonces $f(Tx) = Tf(x)$, donde $f$ es la convolución y $x$ la imagen de entrada. Esto permite un procesamiento más preciso de las imágenes. Las redes convolucionales, por último, surgen desde una perspectiva biológica (LeCun et al., 1998)."
   ]
  },
  {
   "cell_type": "code",
   "execution_count": 1,
   "id": "abae2b06",
   "metadata": {},
   "outputs": [],
   "source": [
    "import matplotlib.pyplot as plt\n",
    "import numpy as np\n",
    "from tqdm import tqdm\n",
    "from sklearn.datasets import load_digits\n",
    "from sklearn.model_selection import train_test_split\n",
    "from node_layers import *"
   ]
  },
  {
   "cell_type": "markdown",
   "id": "bf10d120",
   "metadata": {},
   "source": [
    "## Funciones auxiliares\n",
    "\n",
    "Definimos dos funciones auxiliares para nuestra implementación de nuestra red neuronal recurrente. La primera de estas funciones <tt>calculate_target_size</tt> se encarga en obtener el tamaño del tensor (imagen) resultante de la convolución, pues la convolución suele reducir el tamaño de la entrada.\n",
    "\n",
    "La segunda función es la función de activación ReLU que se aplica en las capa convolucionales; aunque pueden aplicarse otras funciones de activación, la función ReLU suele ser la más común en redes convolucionales. Aquí, la incorporamos dentro de la misma capa convolucional."
   ]
  },
  {
   "cell_type": "code",
   "execution_count": 2,
   "id": "1d60864f",
   "metadata": {},
   "outputs": [],
   "source": [
    "def calculate_target_size(img_size, kernel_size):\n",
    "    \"\"\"Función que calcula las dimensiones de la imagen resultante de la convolución\"\"\"\n",
    "    num_pixels = 0\n",
    "    for i in range(img_size):\n",
    "        added = i + kernel_size\n",
    "        if added <= img_size:\n",
    "            num_pixels += 1\n",
    "            \n",
    "    return num_pixels\n",
    "\n",
    "#Definición de la función ReLU\n",
    "ReLU = lambda x: np.array([np.max([0,c]) for c in x.reshape(x.shape[0]*x.shape[1])]).reshape(x.shape[0],x.shape[1])"
   ]
  },
  {
   "cell_type": "markdown",
   "id": "db83ff9c",
   "metadata": {},
   "source": [
    "## Capa convolucional\n",
    "\n",
    "La capa convolucional implementa en el forward la aplicación de la convolución sobre un tensor de entrada. El forward y el backward se implementan de la siguiente forma:\n",
    "\n",
    "* <b>Forward</b>: En esta capa se rquiere de un kernel $w$, el cual puede verse como una matriz de pesos, además de un bias $b$. La convolución, dado un tensor de entrada, se estima como: $$(w*x)_{i,j} = \\sum_{l=1} \\sum_{l'=1} w_{l,l'} x_{i+l, i+l'} + b$$ Posteriomente, aplicamo la función de activación ReLU: $$h_{i,j} = ReLU\\big( (w*x)_{i,j} \\big)$$\n",
    "\n",
    "* <b>Backward</b>: El backward es similar a la de las redes feedforward, pero considerando que se tienen capas con conexiones dispersas. Por ejemplo, si $h_{i,j}$ es una neurona de la capa superior, las neuronas de la capa previa son sólo aquellas que se conectan con esta neurona; es decir, su derivada está dada como: $$\\frac{h_{i,j}}{w_{i,j}} = ReLU' \\sum_{a,b} x_{a+i,b+j}$$ Donde $x_{a+i,b+j}$ son todas los valores de la entrada que multiplican al peso $w_{i,j}$ (pues este se mueve a través de la imagen de entrada y dependiendo del tamalo del kernel, éste multiplicara un conjunto de píxeles)."
   ]
  },
  {
   "cell_type": "code",
   "execution_count": 3,
   "id": "a06bd64f",
   "metadata": {},
   "outputs": [],
   "source": [
    "class Conv2D():\n",
    "    \"\"\"Capa de convolución (cross correlation)\"\"\"\n",
    "    def __init__(self, kernel):\n",
    "        np.random.seed(1)\n",
    "        #Inicialización de parámetros\n",
    "        self.w = np.random.random((kernel, kernel))/np.sqrt(kernel)\n",
    "        self.b = np.random.random(1)\n",
    "        \n",
    "    def __call__(self, x):\n",
    "        #Convolución\n",
    "        self.x = x\n",
    "        self.tgt_size = calculate_target_size(x.shape[0], self.w.shape[0])\n",
    "        self.k = self.w.shape[0]\n",
    "        self.h = np.zeros(shape=(self.tgt_size, self.tgt_size))\n",
    "        for i in range(self.tgt_size):\n",
    "            for j in range(self.tgt_size):\n",
    "                x_ij = x[i:i+self.k, j:j+self.k]           \n",
    "                self.h[i, j] = np.sum(self.w*x_ij) + self.b\n",
    "        \n",
    "        return ReLU(self.h)\n",
    "        \n",
    "    def backward(self, layer, lr=0.1):\n",
    "        #Paso backward\n",
    "        self.d = 0\n",
    "        for i in range(self.tgt_size):\n",
    "            for j in range(self.tgt_size):\n",
    "                if self.h[i,j] > 0:\n",
    "                    dw = (layer.d@x[i:i+self.k, j:j+self.k]).sum(2)\n",
    "                    self.w -= lr*dw\n",
    "                    self.b -= lr*dw.sum()\n",
    "                    self.d += dw"
   ]
  },
  {
   "cell_type": "markdown",
   "id": "148d4587",
   "metadata": {},
   "source": [
    "### Pooling\n",
    "\n",
    "Posterior a la convolución, el resultado de esta capa suele pasar por una capa de pooling. Aquí implementamos el average pooling. El average pooling es de la forma:\n",
    "\n",
    "$$h_{i,j} = \\frac{1}{m\\cdot m} \\sum_{l=i}^m \\sum_{l'=j}^m x_{l,l'} $$\n",
    "\n",
    "Es decir, obtiene el promedio de los valores de $x_{l,l'}$ en una ventana de tamaño $m$. Por tanto, su derivada sobre $x$ es simplemente el valor del promedio."
   ]
  },
  {
   "cell_type": "code",
   "execution_count": 4,
   "id": "c950a8db",
   "metadata": {},
   "outputs": [],
   "source": [
    "class Pooling():\n",
    "    \"\"\"Aplicación de average pooling\"\"\"\n",
    "    def __init__(self, size):\n",
    "        #Tamaño de la ventana de pooling\n",
    "        self.K, self.L = size, size\n",
    "        \n",
    "    def __call__(self, x):\n",
    "        #Forward del pooling\n",
    "        self.x = x\n",
    "        self.M, self.N = x.shape\n",
    "        self.MK = self.M // self.K\n",
    "        self.NL = self.N // self.L\n",
    "        self.h = x[:self.MK*self.K, :self.NL*self.L].reshape(self.MK, self.K, self.NL, self.L).mean(axis=(1, 3))\n",
    "\n",
    "        return self.h\n",
    "    \n",
    "    def backward(self, layer):\n",
    "        #Backward del poolin\n",
    "        dh = self.h.reshape(self.MK*self.NL)/self.MK*self.NL\n",
    "        self.d = np.outer(layer.d, dh).sum(0).reshape(self.MK, self.NL)"
   ]
  },
  {
   "cell_type": "markdown",
   "id": "f0834523",
   "metadata": {},
   "source": [
    "## Aplicación de la red convolucional\n",
    "\n",
    "A continuación aplicamos la red a un problema específico. La implementación de la red, como en casos anteriores, se da con una gráfica computacional.\n",
    "\n",
    "### Datos\n",
    "\n",
    "Los datos responden al dataset MNIST que representa los números del 0 al 9 en manuscrito. El objetivo es predecir el número de la imagen. "
   ]
  },
  {
   "cell_type": "code",
   "execution_count": 5,
   "id": "57dd6e3d",
   "metadata": {},
   "outputs": [],
   "source": [
    "#Carga los datos\n",
    "x,y = load_digits().data, load_digits().target\n",
    "x = x.reshape(len(x),8,8)\n",
    "#Genera entrenamiento y evaluación\n",
    "x_train, x_test, y_train, y_test = train_test_split(x,y,test_size=0.3)"
   ]
  },
  {
   "cell_type": "markdown",
   "id": "8a9d9d05",
   "metadata": {},
   "source": [
    "### Entrenamiento\n",
    "\n",
    "Construimos ahora el modelo a partir de una gráfica computacional que se compone de: \n",
    "1. Una capa convolucional que toma al imagen de entrada.\n",
    "2. Una capa de pooling\n",
    "3. Una capa lineal con activación de tangente hiperbólica.\n",
    "4. Una capa de salida con activación softmax\n",
    "5. La función de riesgo de entropía cruzada\n",
    "\n",
    "Finalmente, entrenamos por un número de épocas dado y una rango de aprendizaje."
   ]
  },
  {
   "cell_type": "code",
   "execution_count": 6,
   "id": "9076acd1",
   "metadata": {},
   "outputs": [
    {
     "name": "stderr",
     "output_type": "stream",
     "text": [
      "100%|█████████████████████████████████████████| 100/100 [03:39<00:00,  2.19s/it]\n"
     ]
    },
    {
     "data": {
      "text/plain": [
       "[<matplotlib.lines.Line2D at 0x7f8856a031c0>]"
      ]
     },
     "execution_count": 6,
     "metadata": {},
     "output_type": "execute_result"
    },
    {
     "data": {
      "image/png": "[encoded data removed]",
      "text/plain": [
       "<Figure size 640x480 with 1 Axes>"
      ]
     },
     "metadata": {},
     "output_type": "display_data"
    }
   ],
   "source": [
    "#Crea la gráfica de la red\n",
    "conv = Conv2D(3)\n",
    "pool = Pooling(2)\n",
    "lin = Linear(9,10)\n",
    "soft = Softmax()\n",
    "risk = CrossEntropy()\n",
    "#Hiperparámetros\n",
    "lr = 0.1\n",
    "epochs = 100\n",
    "total_risk = []\n",
    "for t in tqdm(range(epochs)):\n",
    "    epoch_loss = 0\n",
    "    for xi, yi in zip(x_train,y_train):\n",
    "        #Forward\n",
    "        h = conv(xi)\n",
    "        pool_h = pool(h)\n",
    "        flat_h = pool_h.reshape(9)\n",
    "        f = soft(lin(flat_h))\n",
    "        epoch_loss += risk(yi,f)\n",
    "        \n",
    "        #Backward\n",
    "        risk.backward()\n",
    "        soft.backward(risk)\n",
    "        lin.backward(soft, lr=lr)\n",
    "        pool.backward(lin)\n",
    "        conv.backward(pool, lr=lr)\n",
    "    total_risk.append(epoch_loss)\n",
    "\n",
    "plt.plot(total_risk)"
   ]
  },
  {
   "cell_type": "markdown",
   "id": "3c274ba1",
   "metadata": {},
   "source": [
    "### Evaluación\n",
    "\n",
    "Utilizamos el método de <tt>classification_report</tt> para evaluar el resultado de nuestra red convolucional en el conjunto de evaluación."
   ]
  },
  {
   "cell_type": "code",
   "execution_count": 7,
   "id": "b1fb1265",
   "metadata": {},
   "outputs": [
    {
     "name": "stdout",
     "output_type": "stream",
     "text": [
      "              precision    recall  f1-score   support\n",
      "\n",
      "           0       0.91      1.00      0.95        48\n",
      "           1       0.83      0.66      0.74        59\n",
      "           2       0.89      1.00      0.94        62\n",
      "           3       0.82      0.86      0.84        42\n",
      "           4       0.90      0.84      0.87        63\n",
      "           5       0.84      0.66      0.74        64\n",
      "           6       0.83      0.95      0.88        55\n",
      "           7       0.80      0.92      0.85        38\n",
      "           8       0.84      0.73      0.78        51\n",
      "           9       0.79      0.90      0.84        58\n",
      "\n",
      "    accuracy                           0.84       540\n",
      "   macro avg       0.84      0.85      0.84       540\n",
      "weighted avg       0.84      0.84      0.84       540\n",
      "\n"
     ]
    }
   ],
   "source": [
    "from sklearn.metrics import classification_report\n",
    "\n",
    "#Predición en el test set\n",
    "y_pred = [soft(lin(pool(conv(x_i)).reshape(9))).argmax() for x_i in x_test]\n",
    "#Evaluación\n",
    "print(classification_report(y_test, y_pred))"
   ]
  },
  {
   "cell_type": "markdown",
   "id": "a1e3a7a0",
   "metadata": {},
   "source": [
    "También podemos visualizar el kernel aprendido por la red convolucional. O mejor dicho, qué es lo que la capa convolucional regresa antes de pasar al pooling. Asimismo, podemos ver cómo trabaja el pooling."
   ]
  },
  {
   "cell_type": "code",
   "execution_count": 8,
   "id": "22b990fc",
   "metadata": {},
   "outputs": [
    {
     "data": {
      "image/png": "[encoded data removed]",
      "text/plain": [
       "<Figure size 1000x300 with 4 Axes>"
      ]
     },
     "metadata": {},
     "output_type": "display_data"
    },
    {
     "data": {
      "image/png": "[encoded data removed]",
      "text/plain": [
       "<Figure size 1000x300 with 4 Axes>"
      ]
     },
     "metadata": {},
     "output_type": "display_data"
    },
    {
     "data": {
      "image/png": "[encoded data removed]",
      "text/plain": [
       "<Figure size 1000x300 with 4 Axes>"
      ]
     },
     "metadata": {},
     "output_type": "display_data"
    }
   ],
   "source": [
    "def plot_images(images, num=2):\n",
    "    \"\"\"Visualización de imagenes\"\"\"\n",
    "    _, axes = plt.subplots(nrows=1, ncols=num, figsize=(10, 3))\n",
    "    for ax, image in zip(axes, images):\n",
    "        #ax.set_axis_off()\n",
    "        ax.imshow(image, cmap=plt.cm.gray_r, interpolation=\"nearest\")\n",
    "        \n",
    "plot_images(x_test[:4], num=4)\n",
    "plot_images([conv(xi) for xi in x_test[:4]], num=4)\n",
    "plot_images([pool(conv(xi)) for xi in x_test[:4]], num=4)"
   ]
  },
  {
   "cell_type": "markdown",
   "id": "373b601b",
   "metadata": {},
   "source": [
    "### Ejercicio\n",
    "\n",
    "La implementación de la capa convolucional aquí expuesta trabaja con matrices; asume que la imagen es una matriz donde cada píxel es un escalar. Implementa una versión de capa convolucional que pueda trabajar con tensores: imágenes RGB o RGB-$\\alpha$."
   ]
  }
 ],
 "metadata": {
  "kernelspec": {
   "display_name": "Python 3 (ipykernel)",
   "language": "python",
   "name": "python3"
  },
  "language_info": {
   "codemirror_mode": {
    "name": "ipython",
    "version": 3
   },
   "file_extension": ".py",
   "mimetype": "text/x-python",
   "name": "python",
   "nbconvert_exporter": "python",
   "pygments_lexer": "ipython3",
   "version": "3.10.9"
  }
 },
 "nbformat": 4,
 "nbformat_minor": 5
}
